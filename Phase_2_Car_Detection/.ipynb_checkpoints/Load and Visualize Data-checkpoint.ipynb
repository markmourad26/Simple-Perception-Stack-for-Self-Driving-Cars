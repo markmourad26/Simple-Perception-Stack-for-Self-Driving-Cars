{
 "cells": [
  {
   "cell_type": "markdown",
   "id": "5979f5d0",
   "metadata": {},
   "source": [
    "## Importing necessary libraries"
   ]
  },
  {
   "cell_type": "code",
   "execution_count": 1,
   "id": "fdb127a4",
   "metadata": {},
   "outputs": [],
   "source": [
    "import numpy as np\n",
    "import matplotlib.pyplot as plt\n",
    "import matplotlib.image as mpimg\n",
    "import glob\n",
    "import pickle\n",
    "\n",
    "%matplotlib inline"
   ]
  },
  {
   "cell_type": "markdown",
   "id": "50c0b2b6",
   "metadata": {},
   "source": [
    "## 1. Loading the dataset"
   ]
  },
  {
   "cell_type": "code",
   "execution_count": 2,
   "id": "488ab1a3",
   "metadata": {},
   "outputs": [
    {
     "data": {
      "text/plain": [
       "(834, 909, 419, 664, 5966, 8968)"
      ]
     },
     "execution_count": 2,
     "metadata": {},
     "output_type": "execute_result"
    }
   ],
   "source": [
    "far_cars = glob.glob('Data/vehicles/GTI_Far/*.png')\n",
    "left_cars = glob.glob('Data/vehicles/GTI_Left/*.png')\n",
    "middle_cars = glob.glob('Data/vehicles/GTI_MiddleClose/*.png')\n",
    "right_cars = glob.glob('Data/vehicles/GTI_Right/*.png')\n",
    "cars = glob.glob('Data/vehicles/KITTI_extracted/*.png')\n",
    "\n",
    "non_cars = glob.glob('Data/non-vehicles/Extras/*.png') + glob.glob('Data/non-vehicles/GTI/*.png')\n",
    "\n",
    "# Compute their respective lengths\n",
    "fcl, lcl, mcl, rcl, cl = len(far_cars), len(left_cars), len(middle_cars), len(right_cars), len(cars)\n",
    "ncl = len(non_cars)\n",
    "fcl, lcl, mcl, rcl, cl, ncl"
   ]
  },
  {
   "cell_type": "markdown",
   "id": "3827c3b5",
   "metadata": {},
   "source": [
    "## 2. Dataset visualization and summarization"
   ]
  },
  {
   "cell_type": "code",
   "execution_count": 3,
   "id": "08634024",
   "metadata": {},
   "outputs": [
    {
     "name": "stdout",
     "output_type": "stream",
     "text": [
      "Total # vehicle images: 8792\n",
      "Total # non-vehicle images: 8968\n",
      "Image shape: (64, 64, 3)\n",
      "Image dtype: float32\n"
     ]
    },
    {
     "data": {
      "text/plain": [
       "<matplotlib.image.AxesImage at 0x20541e20898>"
      ]
     },
     "execution_count": 3,
     "metadata": {},
     "output_type": "execute_result"
    },
    {
     "data": {
      "image/png": "[encoded data removed]",
      "text/plain": [
       "<Figure size 720x576 with 2 Axes>"
      ]
     },
     "metadata": {
      "needs_background": "light"
     },
     "output_type": "display_data"
    }
   ],
   "source": [
    "imtest = mpimg.imread(far_cars[0])\n",
    "\n",
    "print('Total # vehicle images: {}'.format(np.sum([fcl, lcl, mcl, rcl, cl])))\n",
    "print('Total # non-vehicle images: {}'.format(np.sum([ncl])))\n",
    "print('Image shape: {}'.format(imtest.shape))\n",
    "print('Image dtype: {}'.format(imtest.dtype))\n",
    "\n",
    "car_idx = np.random.randint(0, len(far_cars))\n",
    "notcar_idx = np.random.randint(0, len(non_cars))\n",
    "\n",
    "car_img = mpimg.imread(far_cars[car_idx])\n",
    "notcar_img = mpimg.imread(non_cars[notcar_idx])\n",
    "\n",
    "plt.figure(figsize=(10, 8))\n",
    "plt.subplot(121)\n",
    "plt.axis('off')\n",
    "plt.title('Vehicle Image')\n",
    "plt.imshow(car_img)\n",
    "plt.subplot(122)\n",
    "plt.axis('off')\n",
    "plt.title('Non-vehicle Image')\n",
    "plt.imshow(notcar_img)"
   ]
  },
  {
   "cell_type": "markdown",
   "id": "bfd95d6d",
   "metadata": {},
   "source": [
    "## 3. Splitting the dataset into Training/Test sets"
   ]
  },
  {
   "cell_type": "code",
   "execution_count": 4,
   "id": "1a91b0d5",
   "metadata": {},
   "outputs": [
    {
     "name": "stdout",
     "output_type": "stream",
     "text": [
      "# Training vehicle examples: 7911\n",
      "# Training non-vehicle examples: 8071\n",
      "\n",
      "# Test vehicle examples: 881\n",
      "# Test non-vehicle examples: 897\n"
     ]
    }
   ],
   "source": [
    "# The ratio of splitting is 90/10\n",
    "L = (0.9 * np.array([fcl, lcl, mcl, rcl, cl, ncl])).astype('int')\n",
    "# Train set\n",
    "cars_train = far_cars[:L[0]] + left_cars[:L[1]] + middle_cars[:L[2]] + right_cars[:L[3]] + cars[:L[4]]    \n",
    "notcars_train = non_cars[:L[5]]\n",
    "# Test set\n",
    "cars_test = far_cars[L[0]:] + left_cars[L[1]:] + middle_cars[L[2]:] + right_cars[L[3]:] + cars[L[4]:]\n",
    "notcars_test = non_cars[L[5]:]\n",
    "\n",
    "print('# Training vehicle examples: {}'.format(len(cars_train)))\n",
    "print('# Training non-vehicle examples: {}'.format(len(notcars_train)))\n",
    "print()\n",
    "print('# Test vehicle examples: {}'.format(len(cars_test)))\n",
    "print('# Test non-vehicle examples: {}'.format(len(notcars_test)))"
   ]
  },
  {
   "cell_type": "markdown",
   "id": "972f77c2",
   "metadata": {},
   "source": [
    "## 4. Pickling the dataset of image paths"
   ]
  },
  {
   "cell_type": "code",
   "execution_count": 5,
   "id": "46a42a2f",
   "metadata": {},
   "outputs": [
    {
     "name": "stdout",
     "output_type": "stream",
     "text": [
      "Pickling the dataset of image paths...\n",
      "Completed successfully!\n"
     ]
    }
   ],
   "source": [
    "try:\n",
    "    print('Pickling the dataset of image paths...')\n",
    "    with open('data.p', mode='wb') as f:\n",
    "        pickle.dump({\n",
    "            'cars_train': cars_train,\n",
    "            'notcars_train': notcars_train,\n",
    "            'cars_test': cars_test,\n",
    "            'notcars_test': notcars_test\n",
    "        }, f)\n",
    "    print('Completed successfully!')\n",
    "    \n",
    "except Expection as e:\n",
    "    print('ERROR: Pickling failed with exception: {}'.format(e))"
   ]
  }
 ],
 "metadata": {
  "kernelspec": {
   "display_name": "Python 3",
   "language": "python",
   "name": "python3"
  },
  "language_info": {
   "codemirror_mode": {
    "name": "ipython",
    "version": 3
   },
   "file_extension": ".py",
   "mimetype": "text/x-python",
   "name": "python",
   "nbconvert_exporter": "python",
   "pygments_lexer": "ipython3",
   "version": "3.6.9"
  }
 },
 "nbformat": 4,
 "nbformat_minor": 5
}
